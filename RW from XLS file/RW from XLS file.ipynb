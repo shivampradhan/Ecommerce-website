{
 "cells": [
  {
   "cell_type": "markdown",
   "metadata": {},
   "source": [
    "https://www.tutorialspoint.com/read-and-write-to-an-excel-file-using-python-openpyxl-module\n",
    "\n",
    "http://zetcode.com/python/openpyxl/"
   ]
  },
  {
   "cell_type": "code",
   "execution_count": 1,
   "metadata": {},
   "outputs": [],
   "source": [
    "import openpyxl"
   ]
  },
  {
   "cell_type": "code",
   "execution_count": 2,
   "metadata": {},
   "outputs": [
    {
     "name": "stdout",
     "output_type": "stream",
     "text": [
      "My Sheet Title: New Sheet\n"
     ]
    }
   ],
   "source": [
    "#to give name to the excel sheet\n",
    "my_wb = openpyxl.Workbook()\n",
    "my_sheet = my_wb.active\n",
    "my_sheet_title = \"New Sheet\"\n",
    "print(\"My Sheet Title: \" + my_sheet_title)"
   ]
  },
  {
   "cell_type": "code",
   "execution_count": 3,
   "metadata": {},
   "outputs": [],
   "source": [
    "#Insert data or to write to an Excel sheet\n",
    "book = openpyxl.Workbook()\n",
    "sheet = book.active\n",
    "#we can add data by three diff ways\n",
    "#1st\n",
    "c1 = sheet.cell(row=1, column= 1)\n",
    "c1.value = \"Shubham\"\n",
    "#2nd\n",
    "c1 = sheet.cell(row=1, column= 2, value=\"USA\")\n",
    "#3rd\n",
    "c2 = sheet['A2'] #A2 = col =1 & row = 2\n",
    "c2.value = \"Ram\"\n",
    "c2 = sheet['B2'] #B2 col = 2 & row = 2\n",
    "c2.value = \"India\"\n",
    "#4th\n",
    "sheet['C3'] = 22\n",
    "book.save(\"Book.xlsx\")"
   ]
  },
  {
   "cell_type": "code",
   "execution_count": 4,
   "metadata": {},
   "outputs": [],
   "source": [
    "#append data\n",
    "import openpyxl \n",
    "book= openpyxl.Workbook()\n",
    "sheet = book.active\n",
    "rows = (\n",
    "    (10,20,30),\n",
    "    (40,50,60),\n",
    "    (60,70,80),\n",
    "    (56, 21, 98),\n",
    "    (24, 18, 43),\n",
    "    (34, 15, 67)\n",
    ")\n",
    "for row in rows:\n",
    "    sheet.append(row)\n",
    "book.save('Book.xlsx')"
   ]
  },
  {
   "cell_type": "code",
   "execution_count": 5,
   "metadata": {},
   "outputs": [
    {
     "name": "stdout",
     "output_type": "stream",
     "text": [
      "10\n"
     ]
    }
   ],
   "source": [
    "#read single cell\n",
    "book = openpyxl.load_workbook('Book.xlsx')\n",
    "\n",
    "sheet = book.active\n",
    "a1 = sheet['A1']\n",
    "print(a1.value)"
   ]
  },
  {
   "cell_type": "code",
   "execution_count": 6,
   "metadata": {},
   "outputs": [
    {
     "name": "stdout",
     "output_type": "stream",
     "text": [
      "      10       20\n",
      "      40       50\n",
      "      60       70\n",
      "      56       21\n"
     ]
    }
   ],
   "source": [
    "#read from multiple cell\n",
    "book = openpyxl.load_workbook('Book.xlsx')\n",
    "sheet = book.active\n",
    "\n",
    "cells = sheet['A1':'B4'] #range\n",
    "\n",
    "for c1,c2 in cells:\n",
    "    #print(c1.value, c2.value)\n",
    "    print(\"{0:8} {1:8}\".format(c1.value, c2.value))"
   ]
  },
  {
   "cell_type": "code",
   "execution_count": 7,
   "metadata": {},
   "outputs": [
    {
     "name": "stdout",
     "output_type": "stream",
     "text": [
      "1 2 3 \n",
      "4 5 6 \n",
      "7 8 9 \n",
      "10 11 12 \n",
      "13 14 15 \n",
      "None None None \n"
     ]
    }
   ],
   "source": [
    "#iterate row to add data and read data by using iter_rows method\n",
    "from openpyxl import Workbook\n",
    "\n",
    "book = Workbook()\n",
    "sheet = book.active\n",
    "#create data to add into excel file\n",
    "rows =  (\n",
    "    (1,2,3),\n",
    "    (4,5,6),\n",
    "    (7,8,9),\n",
    "    (10,11,12),\n",
    "    (13,14,15)\n",
    ")\n",
    "#add data using for loop\n",
    "for row in rows:\n",
    "    sheet.append(row)\n",
    "\n",
    "#fetch data using iter_rows method\n",
    "for row in sheet.iter_rows(min_row=1, min_col=1, max_row=6, max_col=3):\n",
    "    for cell in row:\n",
    "        print(cell.value, end=\" \")\n",
    "    print()    \n",
    "\n",
    "book.save('iterbyrows.xlsx')"
   ]
  },
  {
   "cell_type": "code",
   "execution_count": 8,
   "metadata": {},
   "outputs": [
    {
     "data": {
      "text/html": [
       "<div>\n",
       "<style scoped>\n",
       "    .dataframe tbody tr th:only-of-type {\n",
       "        vertical-align: middle;\n",
       "    }\n",
       "\n",
       "    .dataframe tbody tr th {\n",
       "        vertical-align: top;\n",
       "    }\n",
       "\n",
       "    .dataframe thead th {\n",
       "        text-align: right;\n",
       "    }\n",
       "</style>\n",
       "<table border=\"1\" class=\"dataframe\">\n",
       "  <thead>\n",
       "    <tr style=\"text-align: right;\">\n",
       "      <th></th>\n",
       "      <th>1</th>\n",
       "      <th>2</th>\n",
       "      <th>3</th>\n",
       "    </tr>\n",
       "  </thead>\n",
       "  <tbody>\n",
       "    <tr>\n",
       "      <th>0</th>\n",
       "      <td>4</td>\n",
       "      <td>5</td>\n",
       "      <td>6</td>\n",
       "    </tr>\n",
       "    <tr>\n",
       "      <th>1</th>\n",
       "      <td>7</td>\n",
       "      <td>8</td>\n",
       "      <td>9</td>\n",
       "    </tr>\n",
       "    <tr>\n",
       "      <th>2</th>\n",
       "      <td>10</td>\n",
       "      <td>11</td>\n",
       "      <td>12</td>\n",
       "    </tr>\n",
       "    <tr>\n",
       "      <th>3</th>\n",
       "      <td>13</td>\n",
       "      <td>14</td>\n",
       "      <td>15</td>\n",
       "    </tr>\n",
       "  </tbody>\n",
       "</table>\n",
       "</div>"
      ],
      "text/plain": [
       "    1   2   3\n",
       "0   4   5   6\n",
       "1   7   8   9\n",
       "2  10  11  12\n",
       "3  13  14  15"
      ]
     },
     "execution_count": 8,
     "metadata": {},
     "output_type": "execute_result"
    }
   ],
   "source": [
    "import pandas as pd\n",
    "#dfs = pd.read_excel('iterbyrows.xlsx', sheet_name=None)\n",
    "dfs = pd.read_excel('iterbyrows.xlsx')\n",
    "dfs"
   ]
  },
  {
   "cell_type": "code",
   "execution_count": 9,
   "metadata": {},
   "outputs": [
    {
     "name": "stdout",
     "output_type": "stream",
     "text": [
      "1 2 3 \n",
      "4 5 6 \n",
      "7 8 9 \n",
      "10 11 12 \n",
      "13 14 15 \n"
     ]
    }
   ],
   "source": [
    "import openpyxl \n",
    "book = openpyxl.load_workbook('iterbyrows.xlsx')\n",
    "sheet = book.active\n",
    "\n",
    "for row in sheet.iter_rows(min_row=1, min_col=1, max_row=5,max_col=3):\n",
    "    for cell in row:\n",
    "        print(cell.value, end=\" \")\n",
    "    print() "
   ]
  },
  {
   "cell_type": "code",
   "execution_count": 10,
   "metadata": {},
   "outputs": [
    {
     "name": "stdout",
     "output_type": "stream",
     "text": [
      "1 4 7 10 13 \n",
      "2 5 8 11 14 \n",
      "3 6 9 12 15 \n"
     ]
    }
   ],
   "source": [
    "#iterate row to add data and read data by using iter_cols method\n",
    "import openpyxl\n",
    "book = openpyxl.Workbook()\n",
    "sheet = book.active\n",
    "\n",
    "rows = (\n",
    "    (1,2,3),\n",
    "    (4,5,6),\n",
    "    (7,8,9),\n",
    "    (10,11,12),\n",
    "    (13,14,15)\n",
    ")\n",
    "\n",
    "for row in rows:\n",
    "    sheet.append(row)\n",
    "    \n",
    "for row in sheet.iter_cols(min_row=1, max_row=5, min_col=1, max_col=3):\n",
    "    for cell in row:\n",
    "        print(cell.value, end=\" \")\n",
    "    print()\n",
    "    \n",
    "book.save('iterbycols.xlsx')"
   ]
  },
  {
   "cell_type": "code",
   "execution_count": 11,
   "metadata": {},
   "outputs": [],
   "source": [
    "#A sheet has an auto_filter attribute, which allows to set filtering and sorting conditions.\n",
    "#DO NOT UNDERSTAND HOW IT WORKS\n",
    "from openpyxl import Workbook\n",
    "\n",
    "wb = Workbook()\n",
    "sheet = wb.active\n",
    "\n",
    "data = [\n",
    "    ['ITEM', 'COLOUR'],\n",
    "    ['A', 'H'],\n",
    "    ['M', 'B'],\n",
    "    ['O', 'T'],\n",
    "    ['J', 'I'],\n",
    "    ['B', 'Y'],\n",
    "    ['Z', 'S'],\n",
    "    ['K', 'J'],\n",
    "]\n",
    "\n",
    "for r in data:\n",
    "    sheet.append(r)\n",
    "\n",
    "sheet.auto_filter.ref = 'A1:B8'\n",
    "sheet.auto_filter.add_filter_column(1, ['brown', 'white'])\n",
    "sheet.auto_filter.add_sort_condition('B2:B8')\n",
    "\n",
    "wb.save('filtered.xlsx')"
   ]
  },
  {
   "cell_type": "code",
   "execution_count": null,
   "metadata": {},
   "outputs": [],
   "source": []
  }
 ],
 "metadata": {
  "kernelspec": {
   "display_name": "Python 3",
   "language": "python",
   "name": "python3"
  },
  "language_info": {
   "codemirror_mode": {
    "name": "ipython",
    "version": 3
   },
   "file_extension": ".py",
   "mimetype": "text/x-python",
   "name": "python",
   "nbconvert_exporter": "python",
   "pygments_lexer": "ipython3",
   "version": "3.7.6"
  }
 },
 "nbformat": 4,
 "nbformat_minor": 4
}
