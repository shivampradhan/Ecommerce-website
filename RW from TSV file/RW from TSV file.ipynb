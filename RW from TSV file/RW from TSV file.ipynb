{
 "cells": [
  {
   "cell_type": "markdown",
   "metadata": {},
   "source": [
    "https://pandas.pydata.org/pandas-docs/stable/reference/api/pandas.read_csv.html"
   ]
  },
  {
   "cell_type": "code",
   "execution_count": 1,
   "metadata": {},
   "outputs": [],
   "source": [
    "#write using csv reader\n",
    "import csv\n",
    "\n",
    "with open('details.tsv', 'w') as file:\n",
    "    tsv_writer = csv.writer(file, delimiter='\\t')\n",
    "    tsv_writer.writerow(['NAME', 'CITY'])\n",
    "    tsv_writer.writerow(['Shubham', 'Delhi'])\n",
    "    tsv_writer.writerow(['Andy', 'Pune'])\n",
    "    tsv_writer.writerow(['Sara', 'Kolkata'])"
   ]
  },
  {
   "cell_type": "code",
   "execution_count": 2,
   "metadata": {},
   "outputs": [
    {
     "name": "stdout",
     "output_type": "stream",
     "text": [
      "NAME\tCITY\n",
      "\n",
      "\n",
      "\n",
      "Shubham\tDelhi\n",
      "\n",
      "\n",
      "\n",
      "Andy\tPune\n",
      "\n",
      "\n",
      "\n",
      "Sara\tKolkata\n",
      "\n",
      "\n",
      "\n"
     ]
    }
   ],
   "source": [
    "#read using csv reader\n",
    "import csv\n",
    "\n",
    "with open('details.tsv', 'r') as file:\n",
    "    reader = csv.reader(file)\n",
    "    for row in file:\n",
    "        print(row)\n"
   ]
  },
  {
   "cell_type": "code",
   "execution_count": 3,
   "metadata": {},
   "outputs": [],
   "source": [
    "import pandas as pd\n",
    "\n",
    "# creating a data frame\n",
    "df = pd.DataFrame([['BMW', 24000], ['Audi', 22000]], columns = ['Name', 'Price'])\n",
    "\n",
    "# writing data frame to a TSV file\n",
    "df.to_csv('cars.tsv')"
   ]
  },
  {
   "cell_type": "code",
   "execution_count": 4,
   "metadata": {},
   "outputs": [
    {
     "data": {
      "text/html": [
       "<div>\n",
       "<style scoped>\n",
       "    .dataframe tbody tr th:only-of-type {\n",
       "        vertical-align: middle;\n",
       "    }\n",
       "\n",
       "    .dataframe tbody tr th {\n",
       "        vertical-align: top;\n",
       "    }\n",
       "\n",
       "    .dataframe thead th {\n",
       "        text-align: right;\n",
       "    }\n",
       "</style>\n",
       "<table border=\"1\" class=\"dataframe\">\n",
       "  <thead>\n",
       "    <tr style=\"text-align: right;\">\n",
       "      <th></th>\n",
       "      <th>,Name,Price</th>\n",
       "    </tr>\n",
       "  </thead>\n",
       "  <tbody>\n",
       "    <tr>\n",
       "      <th>0</th>\n",
       "      <td>0,BMW,24000</td>\n",
       "    </tr>\n",
       "    <tr>\n",
       "      <th>1</th>\n",
       "      <td>1,Audi,22000</td>\n",
       "    </tr>\n",
       "  </tbody>\n",
       "</table>\n",
       "</div>"
      ],
      "text/plain": [
       "    ,Name,Price\n",
       "0   0,BMW,24000\n",
       "1  1,Audi,22000"
      ]
     },
     "execution_count": 4,
     "metadata": {},
     "output_type": "execute_result"
    }
   ],
   "source": [
    "#read using panda\n",
    "import pandas as pd\n",
    "file = pd.read_csv(\"cars.tsv\",sep=\"\\t\" )## if header is not present in csv file then we will use header=None\n",
    "file.head()"
   ]
  },
  {
   "cell_type": "code",
   "execution_count": null,
   "metadata": {},
   "outputs": [],
   "source": []
  }
 ],
 "metadata": {
  "kernelspec": {
   "display_name": "Python 3",
   "language": "python",
   "name": "python3"
  },
  "language_info": {
   "codemirror_mode": {
    "name": "ipython",
    "version": 3
   },
   "file_extension": ".py",
   "mimetype": "text/x-python",
   "name": "python",
   "nbconvert_exporter": "python",
   "pygments_lexer": "ipython3",
   "version": "3.7.6"
  }
 },
 "nbformat": 4,
 "nbformat_minor": 4
}
