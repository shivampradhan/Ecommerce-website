{
 "cells": [
  {
   "cell_type": "code",
   "execution_count": 1,
   "metadata": {},
   "outputs": [
    {
     "name": "stdout",
     "output_type": "stream",
     "text": [
      "player_name,score\r\n",
      "Andy,2870\r\n",
      "Roman,2822\r\n",
      "Poleros,2801\r\n",
      "\r\n",
      "You can write text here\n"
     ]
    }
   ],
   "source": [
    "import boto3\n",
    " \n",
    "s3client = boto3.client(\n",
    "    's3',\n",
    "    region_name='ap-south-1'\n",
    ")\n",
    " \n",
    "# These define the bucket and object to read\n",
    "bucketname = 'mabvc' \n",
    "file_to_read = 'players.csv'\n",
    "\n",
    "#Create a file object using the bucket and object key. \n",
    "fileobj = s3client.get_object(\n",
    "    Bucket=bucketname,\n",
    "    Key=file_to_read\n",
    "    ) \n",
    "# open the file object and read it into the variable filedata. \n",
    "filedata = fileobj['Body'].read()\n",
    "\n",
    "# file data will be a binary stream.  We have to decode it \n",
    "contents = filedata.decode('utf-8')\n",
    "\n",
    "# Once decoded, you can treat the file as plain text if appropriate \n",
    "print(contents)\n",
    "\n"
   ]
  },
  {
   "cell_type": "code",
   "execution_count": null,
   "metadata": {},
   "outputs": [],
   "source": []
  }
 ],
 "metadata": {
  "kernelspec": {
   "display_name": "Python 3",
   "language": "python",
   "name": "python3"
  },
  "language_info": {
   "codemirror_mode": {
    "name": "ipython",
    "version": 3
   },
   "file_extension": ".py",
   "mimetype": "text/x-python",
   "name": "python",
   "nbconvert_exporter": "python",
   "pygments_lexer": "ipython3",
   "version": "3.7.6"
  }
 },
 "nbformat": 4,
 "nbformat_minor": 4
}
